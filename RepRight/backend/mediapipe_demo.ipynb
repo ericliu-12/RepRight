{
 "cells": [
  {
   "cell_type": "code",
   "execution_count": 2,
   "metadata": {},
   "outputs": [],
   "source": [
    "#@markdown To better demonstrate the Pose Landmarker API, we have created a set of visualization tools that will be used in this colab. These will draw the landmarks on a detect person, as well as the expected connections between those markers.\n",
    "# test file\n",
    "from mediapipe import solutions\n",
    "from mediapipe.framework.formats import landmark_pb2\n",
    "import numpy as np\n",
    "\n",
    "\n",
    "def draw_landmarks_on_image(rgb_image, detection_result):\n",
    "  pose_landmarks_list = detection_result.pose_landmarks\n",
    "  annotated_image = np.copy(rgb_image)\n",
    "\n",
    "  # Loop through the detected poses to visualize.\n",
    "  for idx in range(len(pose_landmarks_list)):\n",
    "    pose_landmarks = pose_landmarks_list[idx]\n",
    "\n",
    "    # Draw the pose landmarks.\n",
    "    pose_landmarks_proto = landmark_pb2.NormalizedLandmarkList()\n",
    "    pose_landmarks_proto.landmark.extend([\n",
    "      landmark_pb2.NormalizedLandmark(x=landmark.x, y=landmark.y, z=landmark.z) for landmark in pose_landmarks\n",
    "    ])\n",
    "    solutions.drawing_utils.draw_landmarks(\n",
    "      annotated_image,\n",
    "      pose_landmarks_proto,\n",
    "      solutions.pose.POSE_CONNECTIONS,\n",
    "      solutions.drawing_styles.get_default_pose_landmarks_style())\n",
    "  return annotated_image"
   ]
  },
  {
   "cell_type": "code",
   "execution_count": 6,
   "metadata": {},
   "outputs": [],
   "source": [
    "import mediapipe as mp\n",
    "from mediapipe.tasks import python\n",
    "from mediapipe.tasks.python import vision\n",
    "\n",
    "BaseOptions = mp.tasks.BaseOptions\n",
    "PoseLandmarker = mp.tasks.vision.PoseLandmarker\n",
    "PoseLandmarkerOptions = mp.tasks.vision.PoseLandmarkerOptions\n",
    "VisionRunningMode = mp.tasks.vision.RunningMode\n",
    "model_path = '/mnt/c/Users/dongk/OneDrive/Desktop/RepRight/pose_landmarker.task'\n",
    "\n",
    "# Create a pose landmarker instance with the video mode:\n",
    "options = PoseLandmarkerOptions(\n",
    "    base_options=BaseOptions(model_asset_path=model_path),\n",
    "    running_mode=VisionRunningMode.VIDEO)"
   ]
  },
  {
   "cell_type": "code",
   "execution_count": 12,
   "metadata": {},
   "outputs": [],
   "source": [
    "import cv2\n",
    "import numpy as np\n",
    "# Use OpenCV’s VideoCapture to load the input video.\n",
    "mp_video = cv2.VideoCapture('/mnt/g/Shared drives/RepRight/workout_videos/squat/squat_16.mp4')\n",
    "\n",
    "# Load the frame rate of the video using OpenCV’s CV_CAP_PROP_FPS\n",
    "fps = mp_video.get(cv2.CAP_PROP_FPS)\n",
    "\n",
    "# You’ll need it to calculate the timestamp for each frame.\n",
    "\n",
    "# Loop through each frame in the video using VideoCapture#read()\n",
    "test_img = mp_video.read()[1]\n",
    "count = 1\n",
    "cv2.imwrite('/mnt/c/Users/dongk/OneDrive/Desktop/RepRight/RepRight/backend/test_img.jpg', test_img)\n",
    "\n",
    "# Convert the frame received from OpenCV to a MediaPipe’s Image object.\n",
    "\n",
    "mp_image = mp.Image(image_format=mp.ImageFormat.SRGB, data=test_img)\n",
    "\n"
   ]
  },
  {
   "cell_type": "code",
   "execution_count": 17,
   "metadata": {},
   "outputs": [
    {
     "name": "stderr",
     "output_type": "stream",
     "text": [
      "I0000 00:00:1729371036.876019   19767 gl_context_egl.cc:85] Successfully initialized EGL. Major : 1 Minor: 5\n",
      "I0000 00:00:1729371036.897351   28209 gl_context.cc:357] GL version: 3.2 (OpenGL ES 3.2 Mesa 23.2.1-1ubuntu3.1~22.04.2), renderer: llvmpipe (LLVM 15.0.7, 256 bits)\n",
      "W0000 00:00:1729371037.147226   28212 inference_feedback_manager.cc:114] Feedback manager requires a model with a single signature inference. Disabling support for feedback tensors.\n",
      "W0000 00:00:1729371038.362009   28217 inference_feedback_manager.cc:114] Feedback manager requires a model with a single signature inference. Disabling support for feedback tensors.\n"
     ]
    }
   ],
   "source": [
    "# Perform pose landmarking on the provided single image.\n",
    "# The pose landmarker must be created with the video mode.\n",
    "with PoseLandmarker.create_from_options(options) as landmarker:\n",
    "    pose_landmarker_result = landmarker.detect_for_video(mp_image, 1)\n",
    "    annotated_img = draw_landmarks_on_image(test_img, pose_landmarker_result)\n",
    "    \n",
    "    cv2.imwrite('/mnt/c/Users/dongk/OneDrive/Desktop/RepRight/RepRight/backend/test_img_anno.jpg', cv2.cvtColor(annotated_img, cv2.COLOR_BGR2RGB))"
   ]
  }
 ],
 "metadata": {
  "kernelspec": {
   "display_name": "Python 3",
   "language": "python",
   "name": "python3"
  },
  "language_info": {
   "codemirror_mode": {
    "name": "ipython",
    "version": 3
   },
   "file_extension": ".py",
   "mimetype": "text/x-python",
   "name": "python",
   "nbconvert_exporter": "python",
   "pygments_lexer": "ipython3",
   "version": "3.10.12"
  }
 },
 "nbformat": 4,
 "nbformat_minor": 2
}
