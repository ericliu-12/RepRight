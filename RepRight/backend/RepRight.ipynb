{
  "nbformat": 4,
  "nbformat_minor": 0,
  "metadata": {
    "colab": {
      "provenance": []
    },
    "kernelspec": {
      "name": "python3",
      "display_name": "Python 3"
    },
    "language_info": {
      "name": "python"
    }
  },
  "cells": [
    {
      "cell_type": "code",
      "execution_count": null,
      "metadata": {
        "id": "0MH3oqgYsUA8"
      },
      "outputs": [],
      "source": [
        "import torch\n",
        "from torch.utils.mobile_optimizer import optimize_for_mobile"
      ]
    },
    {
      "cell_type": "code",
      "source": [
        "from google.colab import drive\n",
        "drive.mount('/content/drive')"
      ],
      "metadata": {
        "colab": {
          "base_uri": "https://localhost:8080/"
        },
        "id": "gUis6BNgwtcw",
        "outputId": "6f25e31e-016b-482b-aab6-49cb183f8460"
      },
      "execution_count": null,
      "outputs": [
        {
          "output_type": "stream",
          "name": "stdout",
          "text": [
            "Drive already mounted at /content/drive; to attempt to forcibly remount, call drive.mount(\"/content/drive\", force_remount=True).\n"
          ]
        }
      ]
    },
    {
      "cell_type": "code",
      "source": [
        "%cd /content/drive/Shareddrives/RepRight/"
      ],
      "metadata": {
        "id": "yc-elxTexNik",
        "outputId": "d1368729-789f-4de1-88f2-ed43dbbb0675",
        "colab": {
          "base_uri": "https://localhost:8080/"
        }
      },
      "execution_count": null,
      "outputs": [
        {
          "output_type": "stream",
          "name": "stdout",
          "text": [
            "/content/drive/Shareddrives/RepRight\n"
          ]
        }
      ]
    },
    {
      "cell_type": "code",
      "source": [
        "import tensorflow as tf\n",
        "print(tf.__version__)"
      ],
      "metadata": {
        "id": "KTaUzfM4xnmT",
        "colab": {
          "base_uri": "https://localhost:8080/"
        },
        "outputId": "e582f55b-352a-40fc-8b7c-b5dd4bbc899f"
      },
      "execution_count": null,
      "outputs": [
        {
          "output_type": "stream",
          "name": "stdout",
          "text": [
            "2.17.0\n"
          ]
        }
      ]
    },
    {
      "cell_type": "code",
      "source": [
        "data ="
      ],
      "metadata": {
        "id": "NFirovtE1xti"
      },
      "execution_count": null,
      "outputs": []
    },
    {
      "cell_type": "markdown",
      "source": [
        "# Classifier model for determining exercise"
      ],
      "metadata": {
        "id": "HX6s7vjU1Xix"
      }
    }
  ]
}